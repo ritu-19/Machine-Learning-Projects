{
 "cells": [
  {
   "cell_type": "markdown",
   "metadata": {
    "collapsed": true
   },
   "source": [
    "# Image Classification\n",
    "In this project, you'll classify images from the [CIFAR-10 dataset](https://www.cs.toronto.edu/~kriz/cifar.html).  The dataset consists of airplanes, dogs, cats, and other objects. You'll preprocess the images, then train a convolutional neural network on all the samples. The images need to be normalized and the labels need to be one-hot encoded.  You'll get to apply what you learned and build a convolutional, max pooling, dropout, and fully connected layers.  At the end, you'll get to see your neural network's predictions on the sample images.\n",
    "## Get the Data\n",
    "Run the following cell to download the [CIFAR-10 dataset for python](https://www.cs.toronto.edu/~kriz/cifar-10-python.tar.gz)."
   ]
  },
  {
   "cell_type": "code",
   "execution_count": 2,
   "metadata": {},
   "outputs": [
    {
     "name": "stderr",
     "output_type": "stream",
     "text": [
      "/anaconda3/envs/tensorflow/lib/python3.5/importlib/_bootstrap.py:222: RuntimeWarning: compiletime version 3.6 of module 'tensorflow.python.framework.fast_tensor_util' does not match runtime version 3.5\n",
      "  return f(*args, **kwds)\n"
     ]
    },
    {
     "name": "stdout",
     "output_type": "stream",
     "text": [
      "All files found!\n"
     ]
    }
   ],
   "source": [
    "\"\"\"\n",
    "DON'T MODIFY ANYTHING IN THIS CELL THAT IS BELOW THIS LINE\n",
    "\"\"\"\n",
    "from urllib.request import urlretrieve\n",
    "from os.path import isfile, isdir\n",
    "from tqdm import tqdm\n",
    "import problem_unittests as tests\n",
    "import tarfile\n",
    "\n",
    "cifar10_dataset_folder_path = 'cifar-10-batches-py'\n",
    "\n",
    "class DLProgress(tqdm):\n",
    "    last_block = 0\n",
    "\n",
    "    def hook(self, block_num=1, block_size=1, total_size=None):\n",
    "        self.total = total_size\n",
    "        self.update((block_num - self.last_block) * block_size)\n",
    "        self.last_block = block_num\n",
    "\n",
    "if not isfile('cifar-10-python.tar.gz'):\n",
    "    with DLProgress(unit='B', unit_scale=True, miniters=1, desc='CIFAR-10 Dataset') as pbar:\n",
    "        urlretrieve(\n",
    "            'https://www.cs.toronto.edu/~kriz/cifar-10-python.tar.gz',\n",
    "            'cifar-10-python.tar.gz',\n",
    "            pbar.hook)\n",
    "\n",
    "if not isdir(cifar10_dataset_folder_path):\n",
    "    with tarfile.open('cifar-10-python.tar.gz') as tar:\n",
    "        tar.extractall()\n",
    "        tar.close()\n",
    "\n",
    "\n",
    "tests.test_folder_path(cifar10_dataset_folder_path)"
   ]
  },
  {
   "cell_type": "markdown",
   "metadata": {},
   "source": [
    "## Explore the Data\n",
    "The dataset is broken into batches to prevent your machine from running out of memory.  The CIFAR-10 dataset consists of 5 batches, named `data_batch_1`, `data_batch_2`, etc.. Each batch contains the labels and images that are one of the following:\n",
    "* airplane\n",
    "* automobile\n",
    "* bird\n",
    "* cat\n",
    "* deer\n",
    "* dog\n",
    "* frog\n",
    "* horse\n",
    "* ship\n",
    "* truck\n",
    "\n",
    "Understanding a dataset is part of making predictions on the data.  Play around with the code cell below by changing the `batch_id` and `sample_id`. The `batch_id` is the id for a batch (1-5). The `sample_id` is the id for a image and label pair in the batch.\n",
    "\n",
    "Ask yourself \"What are all possible labels?\", \"What is the range of values for the image data?\", \"Are the labels in order or random?\".  Answers to questions like these will help you preprocess the data and end up with better predictions."
   ]
  },
  {
   "cell_type": "code",
   "execution_count": 3,
   "metadata": {},
   "outputs": [
    {
     "name": "stdout",
     "output_type": "stream",
     "text": [
      "\n",
      "Stats of batch 1:\n",
      "Samples: 10000\n",
      "Label Counts: {0: 1005, 1: 974, 2: 1032, 3: 1016, 4: 999, 5: 937, 6: 1030, 7: 1001, 8: 1025, 9: 981}\n",
      "First 20 Labels: [6, 9, 9, 4, 1, 1, 2, 7, 8, 3, 4, 7, 7, 2, 9, 9, 9, 3, 2, 6]\n",
      "\n",
      "Example of Image 5:\n",
      "Image - Min Value: 0 Max Value: 252\n",
      "Image - Shape: (32, 32, 3)\n",
      "Label - Label Id: 1 Name: automobile\n"
     ]
    },
    {
     "data": {
      "image/png": "[encoded data removed]",
      "text/plain": [
       "<Figure size 432x288 with 1 Axes>"
      ]
     },
     "metadata": {
      "image/png": {
       "height": 250,
       "width": 253
      }
     },
     "output_type": "display_data"
    }
   ],
   "source": [
    "%matplotlib inline\n",
    "%config InlineBackend.figure_format = 'retina'\n",
    "\n",
    "import helper\n",
    "import numpy as np\n",
    "\n",
    "# Explore the dataset\n",
    "batch_id = 1\n",
    "sample_id = 5\n",
    "helper.display_stats(cifar10_dataset_folder_path, batch_id, sample_id)"
   ]
  },
  {
   "cell_type": "markdown",
   "metadata": {},
   "source": [
    "## Implement Preprocess Functions\n",
    "### Normalize\n",
    "In the cell below, implement the `normalize` function to take in image data, `x`, and return it as a normalized Numpy array. The values should be in the range of 0 to 1, inclusive.  The return object should be the same shape as `x`."
   ]
  },
  {
   "cell_type": "code",
   "execution_count": 5,
   "metadata": {},
   "outputs": [
    {
     "name": "stdout",
     "output_type": "stream",
     "text": [
      "Tests Passed\n"
     ]
    }
   ],
   "source": [
    "def normalize(x):\n",
    "    \"\"\"\n",
    "    Normalize a list of sample image data in the range of 0 to 1\n",
    "    : x: List of image data.  The image shape is (32, 32, 3)\n",
    "    : return: Numpy array of normalize data\n",
    "    \"\"\"\n",
    "    # TODO: Implement Function\n",
    "    #print(\"type-X \" , type(x))\n",
    "    minVal = np.min(x)\n",
    "    maxVal = np.max(x)\n",
    "    #print(\"Minimum Value: \", minVal, \" \\t  Maximum Value: \" , maxVal)\n",
    "    normalized_x = x / maxVal\n",
    "    return normalized_x\n",
    "\n",
    "\n",
    "\"\"\"\n",
    "DON'T MODIFY ANYTHING IN THIS CELL THAT IS BELOW THIS LINE\n",
    "\"\"\"\n",
    "tests.test_normalize(normalize)"
   ]
  },
  {
   "cell_type": "markdown",
   "metadata": {},
   "source": [
    "### One-hot encode\n",
    "Just like the previous code cell, you'll be implementing a function for preprocessing.  This time, you'll implement the `one_hot_encode` function. The input, `x`, are a list of labels.  Implement the function to return the list of labels as One-Hot encoded Numpy array.  The possible values for labels are 0 to 9. The one-hot encoding function should return the same encoding for each value between each call to `one_hot_encode`.  Make sure to save the map of encodings outside the function.\n",
    "\n",
    "**Hint:**\n",
    "\n",
    "Look into LabelBinarizer in the preprocessing module of sklearn."
   ]
  },
  {
   "cell_type": "code",
   "execution_count": 6,
   "metadata": {},
   "outputs": [
    {
     "name": "stdout",
     "output_type": "stream",
     "text": [
      "Tests Passed\n"
     ]
    }
   ],
   "source": [
    "from sklearn.preprocessing import LabelBinarizer\n",
    "lbClassifier = LabelBinarizer()\n",
    "\n",
    "def one_hot_encode(x):\n",
    "    \"\"\"\n",
    "    One hot encode a list of sample labels. Return a one-hot encoded vector for each label.\n",
    "    : x: List of sample Labels\n",
    "    : return: Numpy array of one-hot encoded labels\n",
    "    \"\"\"\n",
    "    # TODO: Implement Function\n",
    "    #print(x.shape)\n",
    "    lbClassifier.fit(range(10))\n",
    "    x_one_hot = lbClassifier.transform(x)\n",
    "    return x_one_hot\n",
    "\n",
    "\n",
    "\"\"\"\n",
    "DON'T MODIFY ANYTHING IN THIS CELL THAT IS BELOW THIS LINE\n",
    "\"\"\"\n",
    "tests.test_one_hot_encode(one_hot_encode)"
   ]
  },
  {
   "cell_type": "markdown",
   "metadata": {},
   "source": [
    "### Randomize Data\n",
    "As you saw from exploring the data above, the order of the samples are randomized.  It doesn't hurt to randomize it again, but you don't need to for this dataset."
   ]
  },
  {
   "cell_type": "markdown",
   "metadata": {},
   "source": [
    "## Preprocess all the data and save it\n",
    "Running the code cell below will preprocess all the CIFAR-10 data and save it to file. The code below also uses 10% of the training data for validation."
   ]
  },
  {
   "cell_type": "code",
   "execution_count": 7,
   "metadata": {},
   "outputs": [],
   "source": [
    "\"\"\"\n",
    "DON'T MODIFY ANYTHING IN THIS CELL\n",
    "\"\"\"\n",
    "# Preprocess Training, Validation, and Testing Data\n",
    "helper.preprocess_and_save_data(cifar10_dataset_folder_path, normalize, one_hot_encode)"
   ]
  },
  {
   "cell_type": "markdown",
   "metadata": {},
   "source": [
    "# Check Point\n",
    "This is your first checkpoint.  If you ever decide to come back to this notebook or have to restart the notebook, you can start from here.  The preprocessed data has been saved to disk."
   ]
  },
  {
   "cell_type": "code",
   "execution_count": 8,
   "metadata": {},
   "outputs": [],
   "source": [
    "\"\"\"\n",
    "DON'T MODIFY ANYTHING IN THIS CELL\n",
    "\"\"\"\n",
    "import pickle\n",
    "import problem_unittests as tests\n",
    "import helper\n",
    "\n",
    "# Load the Preprocessed Validation data\n",
    "valid_features, valid_labels = pickle.load(open('preprocess_validation.p', mode='rb'))"
   ]
  },
  {
   "cell_type": "markdown",
   "metadata": {},
   "source": [
    "## Build the network\n",
    "For the neural network, you'll build each layer into a function.  Most of the code you've seen has been outside of functions. To test your code more thoroughly, we require that you put each layer in a function.  This allows us to give you better feedback and test for simple mistakes using our unittests before you submit your project.\n",
    "\n",
    ">**Note:** If you're finding it hard to dedicate enough time for this course each week, we've provided a small shortcut to this part of the project. In the next couple of problems, you'll have the option to use classes from the [TensorFlow Layers](https://www.tensorflow.org/api_docs/python/tf/layers) or [TensorFlow Layers (contrib)](https://www.tensorflow.org/api_guides/python/contrib.layers) packages to build each layer, except the layers you build in the \"Convolutional and Max Pooling Layer\" section.  TF Layers is similar to Keras's and TFLearn's abstraction to layers, so it's easy to pickup.\n",
    "\n",
    ">However, if you would like to get the most out of this course, try to solve all the problems _without_ using anything from the TF Layers packages. You **can** still use classes from other packages that happen to have the same name as ones you find in TF Layers! For example, instead of using the TF Layers version of the `conv2d` class, [tf.layers.conv2d](https://www.tensorflow.org/api_docs/python/tf/layers/conv2d), you would want to use the TF Neural Network version of `conv2d`, [tf.nn.conv2d](https://www.tensorflow.org/api_docs/python/tf/nn/conv2d). \n",
    "\n",
    "Let's begin!\n",
    "\n",
    "### Input\n",
    "The neural network needs to read the image data, one-hot encoded labels, and dropout keep probability. Implement the following functions\n",
    "* Implement `neural_net_image_input`\n",
    " * Return a [TF Placeholder](https://www.tensorflow.org/api_docs/python/tf/placeholder)\n",
    " * Set the shape using `image_shape` with batch size set to `None`.\n",
    " * Name the TensorFlow placeholder \"x\" using the TensorFlow `name` parameter in the [TF Placeholder](https://www.tensorflow.org/api_docs/python/tf/placeholder).\n",
    "* Implement `neural_net_label_input`\n",
    " * Return a [TF Placeholder](https://www.tensorflow.org/api_docs/python/tf/placeholder)\n",
    " * Set the shape using `n_classes` with batch size set to `None`.\n",
    " * Name the TensorFlow placeholder \"y\" using the TensorFlow `name` parameter in the [TF Placeholder](https://www.tensorflow.org/api_docs/python/tf/placeholder).\n",
    "* Implement `neural_net_keep_prob_input`\n",
    " * Return a [TF Placeholder](https://www.tensorflow.org/api_docs/python/tf/placeholder) for dropout keep probability.\n",
    " * Name the TensorFlow placeholder \"keep_prob\" using the TensorFlow `name` parameter in the [TF Placeholder](https://www.tensorflow.org/api_docs/python/tf/placeholder).\n",
    "\n",
    "These names will be used at the end of the project to load your saved model.\n",
    "\n",
    "Note: `None` for shapes in TensorFlow allow for a dynamic size."
   ]
  },
  {
   "cell_type": "code",
   "execution_count": 9,
   "metadata": {},
   "outputs": [
    {
     "name": "stdout",
     "output_type": "stream",
     "text": [
      "Image Input Tests Passed.\n",
      "Label Input Tests Passed.\n",
      "Keep Prob Tests Passed.\n"
     ]
    }
   ],
   "source": [
    "import tensorflow as tf\n",
    "\n",
    "def neural_net_image_input(image_shape):\n",
    "    \"\"\"\n",
    "    Return a Tensor for a batch of image input\n",
    "    : image_shape: Shape of the images\n",
    "    : return: Tensor for image input.\n",
    "    \"\"\"\n",
    "    # TODO: Implement Function\n",
    "    \n",
    "    batch_size = None\n",
    "    image_input = tf.placeholder(tf.float32, shape =  (batch_size, image_shape[0], image_shape[1],image_shape[2]), name = 'x')\n",
    "    return image_input\n",
    "\n",
    "\n",
    "def neural_net_label_input(n_classes):\n",
    "    \"\"\"\n",
    "    Return a Tensor for a batch of label input\n",
    "    : n_classes: Number of classes\n",
    "    : return: Tensor for label input.\n",
    "    \"\"\"\n",
    "    # TODO: Implement Function\n",
    "    batch_size = None\n",
    "    label_input = tf.placeholder(tf.float32, shape =  (batch_size, n_classes), name = 'y')\n",
    "    return label_input\n",
    "\n",
    "\n",
    "def neural_net_keep_prob_input():\n",
    "    \"\"\"\n",
    "    Return a Tensor for keep probability\n",
    "    : return: Tensor for keep probability.\n",
    "    \"\"\"\n",
    "    # TODO: Implement Function\n",
    "    keep_prob_input = tf.placeholder(tf.float32,name = 'keep_prob')\n",
    "    return keep_prob_input\n",
    "\n",
    "\n",
    "\"\"\"\n",
    "DON'T MODIFY ANYTHING IN THIS CELL THAT IS BELOW THIS LINE\n",
    "\"\"\"\n",
    "tf.reset_default_graph()\n",
    "tests.test_nn_image_inputs(neural_net_image_input)\n",
    "tests.test_nn_label_inputs(neural_net_label_input)\n",
    "tests.test_nn_keep_prob_inputs(neural_net_keep_prob_input)"
   ]
  },
  {
   "cell_type": "markdown",
   "metadata": {},
   "source": [
    "### Convolution and Max Pooling Layer\n",
    "Convolution layers have a lot of success with images. For this code cell, you should implement the function `conv2d_maxpool` to apply convolution then max pooling:\n",
    "* Create the weight and bias using `conv_ksize`, `conv_num_outputs` and the shape of `x_tensor`.\n",
    "* Apply a convolution to `x_tensor` using weight and `conv_strides`.\n",
    " * We recommend you use same padding, but you're welcome to use any padding.\n",
    "* Add bias\n",
    "* Add a nonlinear activation to the convolution.\n",
    "* Apply Max Pooling using `pool_ksize` and `pool_strides`.\n",
    " * We recommend you use same padding, but you're welcome to use any padding.\n",
    "\n",
    "**Note:** You **can't** use [TensorFlow Layers](https://www.tensorflow.org/api_docs/python/tf/layers) or [TensorFlow Layers (contrib)](https://www.tensorflow.org/api_guides/python/contrib.layers) for **this** layer, but you can still use TensorFlow's [Neural Network](https://www.tensorflow.org/api_docs/python/tf/nn) package. You may still use the shortcut option for all the **other** layers.\n",
    "\n",
    "** Hint: **\n",
    "\n",
    "When unpacking values as an argument in Python, look into the [unpacking](https://docs.python.org/3/tutorial/controlflow.html#unpacking-argument-lists) operator. "
   ]
  },
  {
   "cell_type": "code",
   "execution_count": 25,
   "metadata": {},
   "outputs": [
    {
     "name": "stdout",
     "output_type": "stream",
     "text": [
      "Tests Passed\n"
     ]
    }
   ],
   "source": [
    "def conv2d_maxpool(x_tensor, conv_num_outputs, conv_ksize, conv_strides, pool_ksize, pool_strides):\n",
    "    \"\"\"\n",
    "    Apply convolution then max pooling to x_tensor\n",
    "    :param x_tensor: TensorFlow Tensor\n",
    "    :param conv_num_outputs: Number of outputs for the convolutional layer\n",
    "    :param conv_ksize: kernal size 2-D Tuple for the convolutional layer\n",
    "    :param conv_strides: Stride 2-D Tuple for convolution\n",
    "    :param pool_ksize: kernal size 2-D Tuple for pool\n",
    "    :param pool_strides: Stride 2-D Tuple for pool\n",
    "    : return: A tensor that represents convolution and max pooling of x_tensor\n",
    "    \"\"\"\n",
    "    # TODO: Implement Function\n",
    "    weight = tf.Variable(tf.truncated_normal([*conv_ksize,x_tensor.get_shape().as_list()[3],conv_num_outputs],mean = 0.0, stddev=0.1))\n",
    "    bias = tf.Variable(tf.zeros(conv_num_outputs))\n",
    "    conv = tf.nn.conv2d(x_tensor, weight, strides=[1, *conv_strides, 1], padding='SAME')\n",
    "    conv = tf.nn.bias_add(conv, bias)\n",
    "    conv = tf.nn.relu(conv)\n",
    "    conv = tf.nn.max_pool(conv, ksize=[1, *pool_ksize, 1], strides=[1, *pool_strides, 1], padding='SAME')\n",
    "    \n",
    "    return conv \n",
    "\n",
    "\n",
    "\"\"\"\n",
    "DON'T MODIFY ANYTHING IN THIS CELL THAT IS BELOW THIS LINE\n",
    "\"\"\"\n",
    "tests.test_con_pool(conv2d_maxpool)"
   ]
  },
  {
   "cell_type": "markdown",
   "metadata": {},
   "source": [
    "### Flatten Layer\n",
    "Implement the `flatten` function to change the dimension of `x_tensor` from a 4-D tensor to a 2-D tensor.  The output should be the shape (*Batch Size*, *Flattened Image Size*). Shortcut option: you can use classes from the [TensorFlow Layers](https://www.tensorflow.org/api_docs/python/tf/layers) or [TensorFlow Layers (contrib)](https://www.tensorflow.org/api_guides/python/contrib.layers) packages for this layer. For more of a challenge, only use other TensorFlow packages."
   ]
  },
  {
   "cell_type": "code",
   "execution_count": 26,
   "metadata": {},
   "outputs": [
    {
     "name": "stdout",
     "output_type": "stream",
     "text": [
      "Tests Passed\n"
     ]
    }
   ],
   "source": [
    "def flatten(x_tensor):\n",
    "    \"\"\"\n",
    "    Flatten x_tensor to (Batch Size, Flattened Image Size)\n",
    "    : x_tensor: A tensor of size (Batch Size, ...), where ... are the image dimensions.\n",
    "    : return: A tensor of size (Batch Size, Flattened Image Size).\n",
    "    \"\"\"\n",
    "    # TODO: Implement Function\n",
    "    x_shape = x_tensor.get_shape().as_list()\n",
    "    reshaped_tensor = tf.reshape(x_tensor, [-1, np.prod(x_shape[1:])])\n",
    "    \n",
    "    return reshaped_tensor\n",
    "\n",
    "\n",
    "\"\"\"\n",
    "DON'T MODIFY ANYTHING IN THIS CELL THAT IS BELOW THIS LINE\n",
    "\"\"\"\n",
    "tests.test_flatten(flatten)"
   ]
  },
  {
   "cell_type": "markdown",
   "metadata": {},
   "source": [
    "### Fully-Connected Layer\n",
    "Implement the `fully_conn` function to apply a fully connected layer to `x_tensor` with the shape (*Batch Size*, *num_outputs*). Shortcut option: you can use classes from the [TensorFlow Layers](https://www.tensorflow.org/api_docs/python/tf/layers) or [TensorFlow Layers (contrib)](https://www.tensorflow.org/api_guides/python/contrib.layers) packages for this layer. For more of a challenge, only use other TensorFlow packages."
   ]
  },
  {
   "cell_type": "code",
   "execution_count": 27,
   "metadata": {},
   "outputs": [
    {
     "name": "stdout",
     "output_type": "stream",
     "text": [
      "Tests Passed\n"
     ]
    }
   ],
   "source": [
    "def fully_conn(x_tensor, num_outputs):\n",
    "    \"\"\"\n",
    "    Apply a fully connected layer to x_tensor using weight and bias\n",
    "    : x_tensor: A 2-D tensor where the first dimension is batch size.\n",
    "    : num_outputs: The number of output that the new tensor should be.\n",
    "    : return: A 2-D tensor where the second dimension is num_outputs.\n",
    "    \"\"\"\n",
    "    # TODO: Implement Function\n",
    "    flattened_shape = np.array(x_tensor.get_shape().as_list()[1:]).prod()\n",
    "    weights = tf.Variable(tf.truncated_normal([flattened_shape, num_outputs], mean = 0.0, stddev=0.1))\n",
    "    bias = tf.Variable(tf.zeros([num_outputs]))\n",
    "    #fully_conn_tensor = tf.nn.relu(tf.add(tf.matmul(x_tensor, weights), bias))        \n",
    "    fully_conn_tensor = tf.nn.relu(tf.matmul(x_tensor, weights) + bias)        \n",
    "    return fully_conn_tensor\n",
    "\n",
    "\n",
    "\"\"\"\n",
    "DON'T MODIFY ANYTHING IN THIS CELL THAT IS BELOW THIS LINE\n",
    "\"\"\"\n",
    "tests.test_fully_conn(fully_conn)"
   ]
  },
  {
   "cell_type": "markdown",
   "metadata": {},
   "source": [
    "### Output Layer\n",
    "Implement the `output` function to apply a fully connected layer to `x_tensor` with the shape (*Batch Size*, *num_outputs*). Shortcut option: you can use classes from the [TensorFlow Layers](https://www.tensorflow.org/api_docs/python/tf/layers) or [TensorFlow Layers (contrib)](https://www.tensorflow.org/api_guides/python/contrib.layers) packages for this layer. For more of a challenge, only use other TensorFlow packages.\n",
    "\n",
    "**Note:** Activation, softmax, or cross entropy should **not** be applied to this."
   ]
  },
  {
   "cell_type": "code",
   "execution_count": 28,
   "metadata": {},
   "outputs": [
    {
     "name": "stdout",
     "output_type": "stream",
     "text": [
      "Tests Passed\n"
     ]
    }
   ],
   "source": [
    "def output(x_tensor, num_outputs):\n",
    "    \"\"\"\n",
    "    Apply a output layer to x_tensor using weight and bias\n",
    "    : x_tensor: A 2-D tensor where the first dimension is batch size.\n",
    "    : num_outputs: The number of output that the new tensor should be.\n",
    "    : return: A 2-D tensor where the second dimension is num_outputs.\n",
    "    \"\"\"\n",
    "    # TODO: Implement Function\n",
    "    flattened_shape = np.array(x_tensor.get_shape().as_list()[1:]).prod()\n",
    "    weights = tf.Variable(tf.truncated_normal([flattened_shape, num_outputs], mean = 0.0, stddev=0.1))\n",
    "    bias = tf.Variable(tf.zeros([num_outputs]))\n",
    "    #fully_conn_tensor = tf.nn.relu(tf.add(tf.matmul(x_tensor, weights), bias))        \n",
    "    output_tensor = tf.matmul(x_tensor, weights) + bias        \n",
    "    return output_tensor\n",
    "\n",
    "\"\"\"\n",
    "DON'T MODIFY ANYTHING IN THIS CELL THAT IS BELOW THIS LINE\n",
    "\"\"\"\n",
    "tests.test_output(output)"
   ]
  },
  {
   "cell_type": "markdown",
   "metadata": {},
   "source": [
    "### Create Convolutional Model\n",
    "Implement the function `conv_net` to create a convolutional neural network model. The function takes in a batch of images, `x`, and outputs logits.  Use the layers you created above to create this model:\n",
    "\n",
    "* Apply 1, 2, or 3 Convolution and Max Pool layers\n",
    "* Apply a Flatten Layer\n",
    "* Apply 1, 2, or 3 Fully Connected Layers\n",
    "* Apply an Output Layer\n",
    "* Return the output\n",
    "* Apply [TensorFlow's Dropout](https://www.tensorflow.org/api_docs/python/tf/nn/dropout) to one or more layers in the model using `keep_prob`. "
   ]
  },
  {
   "cell_type": "code",
   "execution_count": 29,
   "metadata": {},
   "outputs": [
    {
     "name": "stdout",
     "output_type": "stream",
     "text": [
      "Neural Network Built!\n"
     ]
    }
   ],
   "source": [
    "def conv_net(x, keep_prob):\n",
    "    \"\"\"\n",
    "    Create a convolutional neural network model\n",
    "    : x: Placeholder tensor that holds image data.\n",
    "    : keep_prob: Placeholder tensor that hold dropout keep probability.\n",
    "    : return: Tensor that represents logits\n",
    "    \"\"\"\n",
    "    conv_num_outputs = [64, 128, 384]\n",
    "    conv_ksize = [(2, 2), (3, 3),(4,4)]\n",
    "    conv_strides = [(2, 2), (3, 3),(4,4)]\n",
    "    pool_ksize = (3, 3)\n",
    "    pool_strides = (2, 2)\n",
    "\n",
    "    conv_model_1 = conv2d_maxpool(x, conv_num_outputs[0], conv_ksize[0], conv_strides[0], pool_ksize, pool_strides)\n",
    "    conv_model_2 = conv2d_maxpool(conv_model_1, conv_num_outputs[1], conv_ksize[1], conv_strides[1], pool_ksize, pool_strides)\n",
    "    conv_model_3 = conv2d_maxpool(conv_model_2, conv_num_outputs[2], conv_ksize[2], conv_strides[2], pool_ksize, pool_strides)\n",
    "\n",
    "    # TODO: Apply 1, 2, or 3 Convolution and Max Pool layers\n",
    "    #    Play around with different number of outputs, kernel size and stride\n",
    "    # Function Definition from Above:\n",
    "    #    conv2d_maxpool(x_tensor, conv_num_outputs, conv_ksize, conv_strides, pool_ksize, pool_strides)\n",
    "    x_tensor = flatten(conv_model_3)\n",
    "\n",
    "    # TODO: Apply 1, 2, or 3 Fully Connected Layers\n",
    "    #    Play around with different number of outputs\n",
    "    # Function Definition from Above:\n",
    "    #   fully_conn(x_tensor, num_outputs)\n",
    "    \n",
    "    num_outputs = [128, 256, 768]\n",
    "    fully_conn_model_1 = fully_conn(x_tensor, num_outputs[0])\n",
    "    fully_conn_model_1 = tf.nn.dropout(fully_conn_model_1, keep_prob)\n",
    "    fully_conn_model_2 = fully_conn(fully_conn_model_1, num_outputs[1])\n",
    "    fully_conn_model_2 = tf.nn.dropout(fully_conn_model_2, keep_prob)\n",
    "    fully_conn_model_3 = fully_conn(fully_conn_model_2, num_outputs[1])\n",
    "    fully_conn_model_3 = tf.nn.dropout(fully_conn_model_3, keep_prob)\n",
    "    \n",
    "    \n",
    "    # TODO: Apply an Output Layer\n",
    "    #    Set this to the number of classes\n",
    "    # Function Definition from Above:\n",
    "    #   output(x_tensor, num_outputs)\n",
    "    n_classes = 10\n",
    "    result = output(fully_conn_model_3, n_classes)\n",
    "    \n",
    "    return result\n",
    "\n",
    "\n",
    "\"\"\"\n",
    "DON'T MODIFY ANYTHING IN THIS CELL THAT IS BELOW THIS LINE\n",
    "\"\"\"\n",
    "\n",
    "##############################\n",
    "## Build the Neural Network ##\n",
    "##############################\n",
    "\n",
    "# Remove previous weights, bias, inputs, etc..\n",
    "tf.reset_default_graph()\n",
    "\n",
    "# Inputs\n",
    "x = neural_net_image_input((32, 32, 3))\n",
    "y = neural_net_label_input(10)\n",
    "keep_prob = neural_net_keep_prob_input()\n",
    "\n",
    "# Model\n",
    "logits = conv_net(x, keep_prob)\n",
    "\n",
    "# Name logits Tensor, so that is can be loaded from disk after training\n",
    "logits = tf.identity(logits, name='logits')\n",
    "\n",
    "# Loss and Optimizer\n",
    "cost = tf.reduce_mean(tf.nn.softmax_cross_entropy_with_logits(logits=logits, labels=y))\n",
    "optimizer = tf.train.AdamOptimizer().minimize(cost)\n",
    "\n",
    "# Accuracy\n",
    "correct_pred = tf.equal(tf.argmax(logits, 1), tf.argmax(y, 1))\n",
    "accuracy = tf.reduce_mean(tf.cast(correct_pred, tf.float32), name='accuracy')\n",
    "\n",
    "tests.test_conv_net(conv_net)"
   ]
  },
  {
   "cell_type": "markdown",
   "metadata": {},
   "source": [
    "## Train the Neural Network\n",
    "### Single Optimization\n",
    "Implement the function `train_neural_network` to do a single optimization.  The optimization should use `optimizer` to optimize in `session` with a `feed_dict` of the following:\n",
    "* `x` for image input\n",
    "* `y` for labels\n",
    "* `keep_prob` for keep probability for dropout\n",
    "\n",
    "This function will be called for each batch, so `tf.global_variables_initializer()` has already been called.\n",
    "\n",
    "Note: Nothing needs to be returned. This function is only optimizing the neural network."
   ]
  },
  {
   "cell_type": "code",
   "execution_count": 30,
   "metadata": {},
   "outputs": [
    {
     "name": "stdout",
     "output_type": "stream",
     "text": [
      "Tests Passed\n"
     ]
    }
   ],
   "source": [
    "def train_neural_network(session, optimizer, keep_probability, feature_batch, label_batch):\n",
    "    \"\"\"\n",
    "    Optimize the session on a batch of images and labels\n",
    "    : session: Current TensorFlow session\n",
    "    : optimizer: TensorFlow optimizer function\n",
    "    : keep_probability: keep probability\n",
    "    : feature_batch: Batch of Numpy image data\n",
    "    : label_batch: Batch of Numpy label data\n",
    "    \"\"\"\n",
    "    # TODO: Implement Function\n",
    "    session.run(optimizer, feed_dict={x:feature_batch, y:label_batch, keep_prob:keep_probability})\n",
    "\n",
    "\n",
    "\"\"\"\n",
    "DON'T MODIFY ANYTHING IN THIS CELL THAT IS BELOW THIS LINE\n",
    "\"\"\"\n",
    "tests.test_train_nn(train_neural_network)"
   ]
  },
  {
   "cell_type": "markdown",
   "metadata": {},
   "source": [
    "### Show Stats\n",
    "Implement the function `print_stats` to print loss and validation accuracy.  Use the global variables `valid_features` and `valid_labels` to calculate validation accuracy.  Use a keep probability of `1.0` to calculate the loss and validation accuracy."
   ]
  },
  {
   "cell_type": "code",
   "execution_count": 31,
   "metadata": {},
   "outputs": [],
   "source": [
    "def print_stats(session, feature_batch, label_batch, cost, accuracy):\n",
    "    \"\"\"\n",
    "    Print information about loss and validation accuracy\n",
    "    : session: Current TensorFlow session\n",
    "    : feature_batch: Batch of Numpy image data\n",
    "    : label_batch: Batch of Numpy label data\n",
    "    : cost: TensorFlow cost function\n",
    "    : accuracy: TensorFlow accuracy function\n",
    "    \"\"\"\n",
    "    # TODO: Implement Function\n",
    "    loss = session.run(cost, feed_dict={x:feature_batch, y:label_batch, keep_prob:1.0})\n",
    "    acc = session.run(accuracy, feed_dict={x:valid_features, y:valid_labels, keep_prob:1.0})\n",
    "    print('Loss: {}  Accuracy: {}'.format(loss, acc))\n"
   ]
  },
  {
   "cell_type": "markdown",
   "metadata": {},
   "source": [
    "### Hyperparameters\n",
    "Tune the following parameters:\n",
    "* Set `epochs` to the number of iterations until the network stops learning or start overfitting\n",
    "* Set `batch_size` to the highest number that your machine has memory for.  Most people set them to common sizes of memory:\n",
    " * 64\n",
    " * 128\n",
    " * 256\n",
    " * ...\n",
    "* Set `keep_probability` to the probability of keeping a node using dropout"
   ]
  },
  {
   "cell_type": "code",
   "execution_count": 37,
   "metadata": {},
   "outputs": [],
   "source": [
    "# TODO: Tune Parameters\n",
    "epochs = 22\n",
    "batch_size = 768\n",
    "keep_probability = 0.6"
   ]
  },
  {
   "cell_type": "markdown",
   "metadata": {},
   "source": [
    "### Train on a Single CIFAR-10 Batch\n",
    "Instead of training the neural network on all the CIFAR-10 batches of data, let's use a single batch. This should save time while you iterate on the model to get a better accuracy.  Once the final validation accuracy is 50% or greater, run the model on all the data in the next section."
   ]
  },
  {
   "cell_type": "code",
   "execution_count": 38,
   "metadata": {},
   "outputs": [
    {
     "name": "stdout",
     "output_type": "stream",
     "text": [
      "Checking the Training on a Single Batch...\n",
      "Epoch  1, CIFAR-10 Batch 1:  Loss: 2.290156364440918  Accuracy: 0.1589999943971634\n",
      "Epoch  2, CIFAR-10 Batch 1:  Loss: 2.2158236503601074  Accuracy: 0.1995999962091446\n",
      "Epoch  3, CIFAR-10 Batch 1:  Loss: 2.0749285221099854  Accuracy: 0.2345999926328659\n",
      "Epoch  4, CIFAR-10 Batch 1:  Loss: 1.9472343921661377  Accuracy: 0.24120000004768372\n",
      "Epoch  5, CIFAR-10 Batch 1:  Loss: 1.8737602233886719  Accuracy: 0.29739999771118164\n",
      "Epoch  6, CIFAR-10 Batch 1:  Loss: 1.7854042053222656  Accuracy: 0.33739998936653137\n",
      "Epoch  7, CIFAR-10 Batch 1:  Loss: 1.698216199874878  Accuracy: 0.35100001096725464\n",
      "Epoch  8, CIFAR-10 Batch 1:  Loss: 1.6363823413848877  Accuracy: 0.3741999864578247\n",
      "Epoch  9, CIFAR-10 Batch 1:  Loss: 1.5692862272262573  Accuracy: 0.3862000107765198\n",
      "Epoch 10, CIFAR-10 Batch 1:  Loss: 1.5157802104949951  Accuracy: 0.41260001063346863\n",
      "Epoch 11, CIFAR-10 Batch 1:  Loss: 1.4494781494140625  Accuracy: 0.4246000051498413\n",
      "Epoch 12, CIFAR-10 Batch 1:  Loss: 1.4221603870391846  Accuracy: 0.41760000586509705\n",
      "Epoch 13, CIFAR-10 Batch 1:  Loss: 1.3467856645584106  Accuracy: 0.44699999690055847\n",
      "Epoch 14, CIFAR-10 Batch 1:  Loss: 1.291151523590088  Accuracy: 0.4553999900817871\n",
      "Epoch 15, CIFAR-10 Batch 1:  Loss: 1.264237403869629  Accuracy: 0.47200000286102295\n",
      "Epoch 16, CIFAR-10 Batch 1:  Loss: 1.2346880435943604  Accuracy: 0.4724000096321106\n",
      "Epoch 17, CIFAR-10 Batch 1:  Loss: 1.193299651145935  Accuracy: 0.4697999954223633\n",
      "Epoch 18, CIFAR-10 Batch 1:  Loss: 1.1720762252807617  Accuracy: 0.47760000824928284\n",
      "Epoch 19, CIFAR-10 Batch 1:  Loss: 1.131171703338623  Accuracy: 0.4903999865055084\n",
      "Epoch 20, CIFAR-10 Batch 1:  Loss: 1.1414724588394165  Accuracy: 0.4830000102519989\n",
      "Epoch 21, CIFAR-10 Batch 1:  Loss: 1.2304292917251587  Accuracy: 0.4447999894618988\n",
      "Epoch 22, CIFAR-10 Batch 1:  Loss: 1.107318639755249  Accuracy: 0.4832000136375427\n"
     ]
    }
   ],
   "source": [
    "\"\"\"\n",
    "DON'T MODIFY ANYTHING IN THIS CELL\n",
    "\"\"\"\n",
    "print('Checking the Training on a Single Batch...')\n",
    "with tf.Session() as sess:\n",
    "    # Initializing the variables\n",
    "    sess.run(tf.global_variables_initializer())\n",
    "    \n",
    "    # Training cycle\n",
    "    for epoch in range(epochs):\n",
    "        batch_i = 1\n",
    "        for batch_features, batch_labels in helper.load_preprocess_training_batch(batch_i, batch_size):\n",
    "            train_neural_network(sess, optimizer, keep_probability, batch_features, batch_labels)\n",
    "        print('Epoch {:>2}, CIFAR-10 Batch {}:  '.format(epoch + 1, batch_i), end='')\n",
    "        print_stats(sess, batch_features, batch_labels, cost, accuracy)"
   ]
  },
  {
   "cell_type": "markdown",
   "metadata": {},
   "source": [
    "### Fully Train the Model\n",
    "Now that you got a good accuracy with a single CIFAR-10 batch, try it with all five batches."
   ]
  },
  {
   "cell_type": "code",
   "execution_count": 39,
   "metadata": {},
   "outputs": [
    {
     "name": "stdout",
     "output_type": "stream",
     "text": [
      "Training...\n",
      "Epoch  1, CIFAR-10 Batch 1:  Loss: 2.2843737602233887  Accuracy: 0.15139999985694885\n",
      "Epoch  1, CIFAR-10 Batch 2:  Loss: 2.16085147857666  Accuracy: 0.19859999418258667\n",
      "Epoch  1, CIFAR-10 Batch 3:  Loss: 2.005767822265625  Accuracy: 0.2240000069141388\n",
      "Epoch  1, CIFAR-10 Batch 4:  Loss: 1.8975865840911865  Accuracy: 0.25200000405311584\n",
      "Epoch  1, CIFAR-10 Batch 5:  Loss: 1.8757094144821167  Accuracy: 0.2818000018596649\n",
      "Epoch  2, CIFAR-10 Batch 1:  Loss: 1.8658252954483032  Accuracy: 0.3019999861717224\n",
      "Epoch  2, CIFAR-10 Batch 2:  Loss: 1.7757848501205444  Accuracy: 0.31139999628067017\n",
      "Epoch  2, CIFAR-10 Batch 3:  Loss: 1.6986207962036133  Accuracy: 0.33180001378059387\n",
      "Epoch  2, CIFAR-10 Batch 4:  Loss: 1.6214354038238525  Accuracy: 0.3441999852657318\n",
      "Epoch  2, CIFAR-10 Batch 5:  Loss: 1.6394503116607666  Accuracy: 0.3628000020980835\n",
      "Epoch  3, CIFAR-10 Batch 1:  Loss: 1.6342533826828003  Accuracy: 0.38199999928474426\n",
      "Epoch  3, CIFAR-10 Batch 2:  Loss: 1.5977675914764404  Accuracy: 0.3869999945163727\n",
      "Epoch  3, CIFAR-10 Batch 3:  Loss: 1.5067470073699951  Accuracy: 0.40720000863075256\n",
      "Epoch  3, CIFAR-10 Batch 4:  Loss: 1.4520087242126465  Accuracy: 0.4185999929904938\n",
      "Epoch  3, CIFAR-10 Batch 5:  Loss: 1.481149435043335  Accuracy: 0.42260000109672546\n",
      "Epoch  4, CIFAR-10 Batch 1:  Loss: 1.4916276931762695  Accuracy: 0.4253999888896942\n",
      "Epoch  4, CIFAR-10 Batch 2:  Loss: 1.4991422891616821  Accuracy: 0.41100001335144043\n",
      "Epoch  4, CIFAR-10 Batch 3:  Loss: 1.3700512647628784  Accuracy: 0.45080000162124634\n",
      "Epoch  4, CIFAR-10 Batch 4:  Loss: 1.3420556783676147  Accuracy: 0.46540001034736633\n",
      "Epoch  4, CIFAR-10 Batch 5:  Loss: 1.3412866592407227  Accuracy: 0.487199991941452\n",
      "Epoch  5, CIFAR-10 Batch 1:  Loss: 1.3790076971054077  Accuracy: 0.4814000129699707\n",
      "Epoch  5, CIFAR-10 Batch 2:  Loss: 1.387542724609375  Accuracy: 0.4650000035762787\n",
      "Epoch  5, CIFAR-10 Batch 3:  Loss: 1.2711694240570068  Accuracy: 0.48260000348091125\n",
      "Epoch  5, CIFAR-10 Batch 4:  Loss: 1.2346856594085693  Accuracy: 0.48739999532699585\n",
      "Epoch  5, CIFAR-10 Batch 5:  Loss: 1.2641557455062866  Accuracy: 0.49000000953674316\n",
      "Epoch  6, CIFAR-10 Batch 1:  Loss: 1.306808590888977  Accuracy: 0.5027999877929688\n",
      "Epoch  6, CIFAR-10 Batch 2:  Loss: 1.312652349472046  Accuracy: 0.49059998989105225\n",
      "Epoch  6, CIFAR-10 Batch 3:  Loss: 1.1964119672775269  Accuracy: 0.5203999876976013\n",
      "Epoch  6, CIFAR-10 Batch 4:  Loss: 1.1560828685760498  Accuracy: 0.5108000040054321\n",
      "Epoch  6, CIFAR-10 Batch 5:  Loss: 1.2067760229110718  Accuracy: 0.5156000256538391\n",
      "Epoch  7, CIFAR-10 Batch 1:  Loss: 1.257677435874939  Accuracy: 0.5184000134468079\n",
      "Epoch  7, CIFAR-10 Batch 2:  Loss: 1.2384034395217896  Accuracy: 0.5231999754905701\n",
      "Epoch  7, CIFAR-10 Batch 3:  Loss: 1.1589250564575195  Accuracy: 0.5266000032424927\n",
      "Epoch  7, CIFAR-10 Batch 4:  Loss: 1.108027458190918  Accuracy: 0.5335999727249146\n",
      "Epoch  7, CIFAR-10 Batch 5:  Loss: 1.12466299533844  Accuracy: 0.5368000268936157\n",
      "Epoch  8, CIFAR-10 Batch 1:  Loss: 1.2278941869735718  Accuracy: 0.5315999984741211\n",
      "Epoch  8, CIFAR-10 Batch 2:  Loss: 1.1989691257476807  Accuracy: 0.5284000039100647\n",
      "Epoch  8, CIFAR-10 Batch 3:  Loss: 1.1421738862991333  Accuracy: 0.5321999788284302\n",
      "Epoch  8, CIFAR-10 Batch 4:  Loss: 1.0756736993789673  Accuracy: 0.527400016784668\n",
      "Epoch  8, CIFAR-10 Batch 5:  Loss: 1.0851961374282837  Accuracy: 0.548799991607666\n",
      "Epoch  9, CIFAR-10 Batch 1:  Loss: 1.2265621423721313  Accuracy: 0.5235999822616577\n",
      "Epoch  9, CIFAR-10 Batch 2:  Loss: 1.1393285989761353  Accuracy: 0.5527999997138977\n",
      "Epoch  9, CIFAR-10 Batch 3:  Loss: 1.0918108224868774  Accuracy: 0.5523999929428101\n",
      "Epoch  9, CIFAR-10 Batch 4:  Loss: 1.0247117280960083  Accuracy: 0.5511999726295471\n",
      "Epoch  9, CIFAR-10 Batch 5:  Loss: 1.0278129577636719  Accuracy: 0.5712000131607056\n",
      "Epoch 10, CIFAR-10 Batch 1:  Loss: 1.1502315998077393  Accuracy: 0.5478000044822693\n",
      "Epoch 10, CIFAR-10 Batch 2:  Loss: 1.0961124897003174  Accuracy: 0.5722000002861023\n",
      "Epoch 10, CIFAR-10 Batch 3:  Loss: 1.033089518547058  Accuracy: 0.5645999908447266\n",
      "Epoch 10, CIFAR-10 Batch 4:  Loss: 0.9687114953994751  Accuracy: 0.5716000199317932\n",
      "Epoch 10, CIFAR-10 Batch 5:  Loss: 0.9896112084388733  Accuracy: 0.5720000267028809\n",
      "Epoch 11, CIFAR-10 Batch 1:  Loss: 1.1064612865447998  Accuracy: 0.5640000104904175\n",
      "Epoch 11, CIFAR-10 Batch 2:  Loss: 1.0978507995605469  Accuracy: 0.5655999779701233\n",
      "Epoch 11, CIFAR-10 Batch 3:  Loss: 1.023970365524292  Accuracy: 0.5687999725341797\n",
      "Epoch 11, CIFAR-10 Batch 4:  Loss: 0.947767972946167  Accuracy: 0.5641999840736389\n",
      "Epoch 11, CIFAR-10 Batch 5:  Loss: 0.9821401238441467  Accuracy: 0.5727999806404114\n",
      "Epoch 12, CIFAR-10 Batch 1:  Loss: 1.0131850242614746  Accuracy: 0.5821999907493591\n",
      "Epoch 12, CIFAR-10 Batch 2:  Loss: 1.0184913873672485  Accuracy: 0.5820000171661377\n",
      "Epoch 12, CIFAR-10 Batch 3:  Loss: 0.9555655121803284  Accuracy: 0.5776000022888184\n",
      "Epoch 12, CIFAR-10 Batch 4:  Loss: 0.8738877773284912  Accuracy: 0.5911999940872192\n",
      "Epoch 12, CIFAR-10 Batch 5:  Loss: 0.9345296025276184  Accuracy: 0.5866000056266785\n",
      "Epoch 13, CIFAR-10 Batch 1:  Loss: 0.9859966039657593  Accuracy: 0.5831999778747559\n",
      "Epoch 13, CIFAR-10 Batch 2:  Loss: 0.982223629951477  Accuracy: 0.5982000231742859\n",
      "Epoch 13, CIFAR-10 Batch 3:  Loss: 0.9136077165603638  Accuracy: 0.593999981880188\n",
      "Epoch 13, CIFAR-10 Batch 4:  Loss: 0.8361229300498962  Accuracy: 0.5961999893188477\n",
      "Epoch 13, CIFAR-10 Batch 5:  Loss: 0.8940152525901794  Accuracy: 0.5946000218391418\n",
      "Epoch 14, CIFAR-10 Batch 1:  Loss: 0.9580322504043579  Accuracy: 0.590399980545044\n",
      "Epoch 14, CIFAR-10 Batch 2:  Loss: 0.9652751684188843  Accuracy: 0.5879999995231628\n",
      "Epoch 14, CIFAR-10 Batch 3:  Loss: 0.88124018907547  Accuracy: 0.5935999751091003\n",
      "Epoch 14, CIFAR-10 Batch 4:  Loss: 0.8445425629615784  Accuracy: 0.593999981880188\n",
      "Epoch 14, CIFAR-10 Batch 5:  Loss: 0.8484101295471191  Accuracy: 0.5985999703407288\n",
      "Epoch 15, CIFAR-10 Batch 1:  Loss: 0.9748811721801758  Accuracy: 0.5807999968528748\n",
      "Epoch 15, CIFAR-10 Batch 2:  Loss: 0.9280256032943726  Accuracy: 0.5942000150680542\n",
      "Epoch 15, CIFAR-10 Batch 3:  Loss: 0.8792607188224792  Accuracy: 0.5924000144004822\n",
      "Epoch 15, CIFAR-10 Batch 4:  Loss: 0.7888899445533752  Accuracy: 0.5946000218391418\n",
      "Epoch 15, CIFAR-10 Batch 5:  Loss: 0.8426565527915955  Accuracy: 0.5982000231742859\n",
      "Epoch 16, CIFAR-10 Batch 1:  Loss: 0.9879168272018433  Accuracy: 0.5681999921798706\n",
      "Epoch 16, CIFAR-10 Batch 2:  Loss: 0.9405475854873657  Accuracy: 0.5906000137329102\n",
      "Epoch 16, CIFAR-10 Batch 3:  Loss: 0.8225300908088684  Accuracy: 0.5960000157356262\n",
      "Epoch 16, CIFAR-10 Batch 4:  Loss: 0.7642796635627747  Accuracy: 0.5899999737739563\n",
      "Epoch 16, CIFAR-10 Batch 5:  Loss: 0.8139655590057373  Accuracy: 0.5979999899864197\n",
      "Epoch 17, CIFAR-10 Batch 1:  Loss: 0.9119852185249329  Accuracy: 0.5878000259399414\n",
      "Epoch 17, CIFAR-10 Batch 2:  Loss: 0.9000735282897949  Accuracy: 0.5888000130653381\n",
      "Epoch 17, CIFAR-10 Batch 3:  Loss: 0.7932451963424683  Accuracy: 0.6055999994277954\n",
      "Epoch 17, CIFAR-10 Batch 4:  Loss: 0.7568585872650146  Accuracy: 0.6014000177383423\n",
      "Epoch 17, CIFAR-10 Batch 5:  Loss: 0.7982572913169861  Accuracy: 0.6007999777793884\n",
      "Epoch 18, CIFAR-10 Batch 1:  Loss: 0.9026400446891785  Accuracy: 0.5960000157356262\n",
      "Epoch 18, CIFAR-10 Batch 2:  Loss: 0.8803836703300476  Accuracy: 0.5896000266075134\n",
      "Epoch 18, CIFAR-10 Batch 3:  Loss: 0.7678505182266235  Accuracy: 0.6096000075340271\n",
      "Epoch 18, CIFAR-10 Batch 4:  Loss: 0.7273723483085632  Accuracy: 0.6021999716758728\n",
      "Epoch 18, CIFAR-10 Batch 5:  Loss: 0.7932465672492981  Accuracy: 0.59579998254776\n",
      "Epoch 19, CIFAR-10 Batch 1:  Loss: 0.8468664288520813  Accuracy: 0.5971999764442444\n",
      "Epoch 19, CIFAR-10 Batch 2:  Loss: 0.8236995935440063  Accuracy: 0.6060000061988831\n",
      "Epoch 19, CIFAR-10 Batch 3:  Loss: 0.7528116106987  Accuracy: 0.6068000197410583\n",
      "Epoch 19, CIFAR-10 Batch 4:  Loss: 0.6968879699707031  Accuracy: 0.6110000014305115\n",
      "Epoch 19, CIFAR-10 Batch 5:  Loss: 0.745273232460022  Accuracy: 0.6110000014305115\n",
      "Epoch 20, CIFAR-10 Batch 1:  Loss: 0.8390607237815857  Accuracy: 0.604200005531311\n",
      "Epoch 20, CIFAR-10 Batch 2:  Loss: 0.8129797577857971  Accuracy: 0.6111999750137329\n",
      "Epoch 20, CIFAR-10 Batch 3:  Loss: 0.7165578007698059  Accuracy: 0.6182000041007996\n"
     ]
    },
    {
     "name": "stdout",
     "output_type": "stream",
     "text": [
      "Epoch 20, CIFAR-10 Batch 4:  Loss: 0.6896871328353882  Accuracy: 0.6093999743461609\n",
      "Epoch 20, CIFAR-10 Batch 5:  Loss: 0.7423656582832336  Accuracy: 0.6025999784469604\n",
      "Epoch 21, CIFAR-10 Batch 1:  Loss: 0.805270791053772  Accuracy: 0.5974000096321106\n",
      "Epoch 21, CIFAR-10 Batch 2:  Loss: 0.7759780883789062  Accuracy: 0.6123999953269958\n",
      "Epoch 21, CIFAR-10 Batch 3:  Loss: 0.7360305786132812  Accuracy: 0.6104000210762024\n",
      "Epoch 21, CIFAR-10 Batch 4:  Loss: 0.6687955260276794  Accuracy: 0.6115999817848206\n",
      "Epoch 21, CIFAR-10 Batch 5:  Loss: 0.6800342798233032  Accuracy: 0.61080002784729\n",
      "Epoch 22, CIFAR-10 Batch 1:  Loss: 0.7696926593780518  Accuracy: 0.6019999980926514\n",
      "Epoch 22, CIFAR-10 Batch 2:  Loss: 0.7649658918380737  Accuracy: 0.6057999730110168\n",
      "Epoch 22, CIFAR-10 Batch 3:  Loss: 0.7157669067382812  Accuracy: 0.6075999736785889\n",
      "Epoch 22, CIFAR-10 Batch 4:  Loss: 0.6433808207511902  Accuracy: 0.6043999791145325\n",
      "Epoch 22, CIFAR-10 Batch 5:  Loss: 0.6678783297538757  Accuracy: 0.6141999959945679\n"
     ]
    }
   ],
   "source": [
    "\"\"\"\n",
    "DON'T MODIFY ANYTHING IN THIS CELL\n",
    "\"\"\"\n",
    "save_model_path = './image_classification'\n",
    "\n",
    "print('Training...')\n",
    "with tf.Session() as sess:\n",
    "    # Initializing the variables\n",
    "    sess.run(tf.global_variables_initializer())\n",
    "    \n",
    "    # Training cycle\n",
    "    for epoch in range(epochs):\n",
    "        # Loop over all batches\n",
    "        n_batches = 5\n",
    "        for batch_i in range(1, n_batches + 1):\n",
    "            for batch_features, batch_labels in helper.load_preprocess_training_batch(batch_i, batch_size):\n",
    "                train_neural_network(sess, optimizer, keep_probability, batch_features, batch_labels)\n",
    "            print('Epoch {:>2}, CIFAR-10 Batch {}:  '.format(epoch + 1, batch_i), end='')\n",
    "            print_stats(sess, batch_features, batch_labels, cost, accuracy)\n",
    "            \n",
    "    # Save Model\n",
    "    saver = tf.train.Saver()\n",
    "    save_path = saver.save(sess, save_model_path)"
   ]
  },
  {
   "cell_type": "markdown",
   "metadata": {},
   "source": [
    "# Checkpoint\n",
    "The model has been saved to disk.\n",
    "## Test Model\n",
    "Test your model against the test dataset.  This will be your final accuracy. You should have an accuracy greater than 50%. If you don't, keep tweaking the model architecture and parameters."
   ]
  },
  {
   "cell_type": "code",
   "execution_count": 40,
   "metadata": {},
   "outputs": [
    {
     "name": "stdout",
     "output_type": "stream",
     "text": [
      "INFO:tensorflow:Restoring parameters from ./image_classification\n",
      "Testing Accuracy: 0.6101190532956805\n",
      "\n"
     ]
    },
    {
     "data": {
      "image/png": "[encoded data removed]",
      "text/plain": [
       "<Figure size 432x288 with 8 Axes>"
      ]
     },
     "metadata": {
      "image/png": {
       "height": 319,
       "width": 355
      }
     },
     "output_type": "display_data"
    }
   ],
   "source": [
    "\"\"\"\n",
    "DON'T MODIFY ANYTHING IN THIS CELL\n",
    "\"\"\"\n",
    "%matplotlib inline\n",
    "%config InlineBackend.figure_format = 'retina'\n",
    "\n",
    "import tensorflow as tf\n",
    "import pickle\n",
    "import helper\n",
    "import random\n",
    "\n",
    "# Set batch size if not already set\n",
    "try:\n",
    "    if batch_size:\n",
    "        pass\n",
    "except NameError:\n",
    "    batch_size = 64\n",
    "\n",
    "save_model_path = './image_classification'\n",
    "n_samples = 4\n",
    "top_n_predictions = 3\n",
    "\n",
    "def test_model():\n",
    "    \"\"\"\n",
    "    Test the saved model against the test dataset\n",
    "    \"\"\"\n",
    "\n",
    "    test_features, test_labels = pickle.load(open('preprocess_training.p', mode='rb'))\n",
    "    loaded_graph = tf.Graph()\n",
    "\n",
    "    with tf.Session(graph=loaded_graph) as sess:\n",
    "        # Load model\n",
    "        loader = tf.train.import_meta_graph(save_model_path + '.meta')\n",
    "        loader.restore(sess, save_model_path)\n",
    "\n",
    "        # Get Tensors from loaded model\n",
    "        loaded_x = loaded_graph.get_tensor_by_name('x:0')\n",
    "        loaded_y = loaded_graph.get_tensor_by_name('y:0')\n",
    "        loaded_keep_prob = loaded_graph.get_tensor_by_name('keep_prob:0')\n",
    "        loaded_logits = loaded_graph.get_tensor_by_name('logits:0')\n",
    "        loaded_acc = loaded_graph.get_tensor_by_name('accuracy:0')\n",
    "        \n",
    "        # Get accuracy in batches for memory limitations\n",
    "        test_batch_acc_total = 0\n",
    "        test_batch_count = 0\n",
    "        \n",
    "        for train_feature_batch, train_label_batch in helper.batch_features_labels(test_features, test_labels, batch_size):\n",
    "            test_batch_acc_total += sess.run(\n",
    "                loaded_acc,\n",
    "                feed_dict={loaded_x: train_feature_batch, loaded_y: train_label_batch, loaded_keep_prob: 1.0})\n",
    "            test_batch_count += 1\n",
    "\n",
    "        print('Testing Accuracy: {}\\n'.format(test_batch_acc_total/test_batch_count))\n",
    "\n",
    "        # Print Random Samples\n",
    "        random_test_features, random_test_labels = tuple(zip(*random.sample(list(zip(test_features, test_labels)), n_samples)))\n",
    "        random_test_predictions = sess.run(\n",
    "            tf.nn.top_k(tf.nn.softmax(loaded_logits), top_n_predictions),\n",
    "            feed_dict={loaded_x: random_test_features, loaded_y: random_test_labels, loaded_keep_prob: 1.0})\n",
    "        helper.display_image_predictions(random_test_features, random_test_labels, random_test_predictions)\n",
    "\n",
    "\n",
    "test_model()"
   ]
  },
  {
   "cell_type": "markdown",
   "metadata": {},
   "source": [
    "## Why 50-80% Accuracy?\n",
    "You might be wondering why you can't get an accuracy any higher. First things first, 50% isn't bad for a simple CNN.  Pure guessing would get you 10% accuracy. That's because there are many more techniques that can be applied to your model and we recemmond that once you are done with this project, you explore!\n",
    "\n",
    "## Submitting This Project\n",
    "When submitting this project, make sure to run all the cells before saving the notebook.  Save the notebook file as \"image_classification.ipynb\" and save it as a HTML file under \"File\" -> \"Download as\".  Include the \"helper.py\" and \"problem_unittests.py\" files in your submission."
   ]
  }
 ],
 "metadata": {
  "kernelspec": {
   "display_name": "Python 3",
   "language": "python",
   "name": "python3"
  },
  "language_info": {
   "codemirror_mode": {
    "name": "ipython",
    "version": 3
   },
   "file_extension": ".py",
   "mimetype": "text/x-python",
   "name": "python",
   "nbconvert_exporter": "python",
   "pygments_lexer": "ipython3",
   "version": "3.5.5"
  }
 },
 "nbformat": 4,
 "nbformat_minor": 1
}
